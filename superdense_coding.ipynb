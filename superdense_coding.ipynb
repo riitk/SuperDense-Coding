{
 "cells": [
  {
   "cell_type": "code",
   "execution_count": 12,
   "metadata": {},
   "outputs": [
    {
     "name": "stdout",
     "output_type": "stream",
     "text": [
      "qiskit==1.3.1\n",
      "qiskit-aer==0.15.1\n",
      "qiskit-algorithms==0.3.1\n",
      "qiskit-experiments==0.8.1\n",
      "qiskit-ibm-experiment==0.4.8\n",
      "qiskit-ibm-provider==0.11.0\n",
      "qiskit-ibm-runtime==0.34.0\n",
      "qiskit-machine-learning==0.8.2\n"
     ]
    }
   ],
   "source": [
    "!pip freeze | findstr qiskit"
   ]
  },
  {
   "cell_type": "code",
   "execution_count": 13,
   "metadata": {},
   "outputs": [],
   "source": [
    "from qiskit import QuantumCircuit, QuantumRegister, ClassicalRegister, transpile\n",
    "from qiskit.visualization import *\n",
    "import matplotlib.pyplot as plt\n",
    "from qiskit_aer import AerSimulator\n",
    "%matplotlib inline"
   ]
  },
  {
   "cell_type": "markdown",
   "metadata": {},
   "source": [
    "## <b>Note :</b>\n",
    "- The zero'th qubit is Alice's\n",
    "- The First qubit is Bob's"
   ]
  },
  {
   "cell_type": "code",
   "execution_count": 14,
   "metadata": {},
   "outputs": [],
   "source": [
    "# Creating an Entanglement Pair between Alice and Bob\n",
    "\n",
    "def create_entanglment_ckt(q_ckt):\n",
    "    # resource state\n",
    "    q_ckt.h(0)\n",
    "    q_ckt.cx(0,1)\n",
    "    q_ckt.barrier()\n",
    "    return q_ckt"
   ]
  },
  {
   "cell_type": "code",
   "execution_count": 15,
   "metadata": {},
   "outputs": [],
   "source": [
    "# Encoding the Classical Bit in the Alice's Qubits\n",
    "\n",
    "def create_encoding_ckt(q_ckt, data):\n",
    "    if data == \"00\":\n",
    "        q_ckt.id(0)\n",
    "    elif data == \"01\":\n",
    "        q_ckt.x(0)\n",
    "    elif data == \"10\":\n",
    "        q_ckt.z(0)\n",
    "    elif data == \"11\":\n",
    "        q_ckt.x(0)\n",
    "        q_ckt.z(0)\n",
    "        \n",
    "    q_ckt.barrier()\n",
    "    return q_ckt"
   ]
  },
  {
   "cell_type": "code",
   "execution_count": 16,
   "metadata": {},
   "outputs": [],
   "source": [
    "# The Alice's Qubits is then shared with Bob and Bobs perform \n",
    "# decoding by applying inverse of the encoding circuit\n",
    "\n",
    "def create_decoding_ckt(q_ckt):\n",
    "    # decoding\n",
    "    q_ckt.cx(0, 1)\n",
    "    q_ckt.h(0)\n",
    "    return q_ckt"
   ]
  },
  {
   "cell_type": "code",
   "execution_count": 17,
   "metadata": {},
   "outputs": [],
   "source": [
    "# Performing Measurement\n",
    "\n",
    "def measurement(q_ckt, q_reg, c_reg):\n",
    "    # Measuremnet\n",
    "    q_ckt.measure(q_reg, c_reg)\n",
    "    return q_ckt"
   ]
  },
  {
   "cell_type": "code",
   "execution_count": 18,
   "metadata": {},
   "outputs": [],
   "source": [
    "# Creating the Circuit\n",
    "\n",
    "def create_circuit(data):\n",
    "    accepted_data = [\"00\", \"01\", \"10\", \"11\"]\n",
    "    if data not in accepted_data:\n",
    "        raise ValueError(f\"Invalid data: {data}. Accepted values are {accepted_data}\")\n",
    "\n",
    "    q_reg = QuantumRegister(2)\n",
    "    c_reg = ClassicalRegister(2)\n",
    "    q_ckt = QuantumCircuit(q_reg, c_reg)\n",
    "\n",
    "    q_ckt = create_entanglment_ckt(q_ckt)\n",
    "    q_ckt = create_encoding_ckt(q_ckt, data)\n",
    "    q_ckt = create_decoding_ckt(q_ckt)\n",
    "    q_ckt = measurement(q_ckt, q_reg, c_reg)\n",
    "    return q_ckt"
   ]
  },
  {
   "cell_type": "code",
   "execution_count": 19,
   "metadata": {},
   "outputs": [],
   "source": [
    "# Executing on AerSimulator\n",
    "\n",
    "def execute(q_ckt):\n",
    "    sim = AerSimulator()\n",
    "    result = sim.run(q_ckt, shots=100).result()\n",
    "    return result"
   ]
  },
  {
   "cell_type": "code",
   "execution_count": 20,
   "metadata": {},
   "outputs": [],
   "source": [
    "# Plotting the Results\n",
    "\n",
    "def plot_hist(results):\n",
    "    counts = results.get_counts()\n",
    "    data = []\n",
    "    for key, value in counts.items():\n",
    "        data.extend([key] * value)\n",
    "\n",
    "    plt.hist(data, bins=len(counts), edgecolor='black', alpha=0.7)"
   ]
  },
  {
   "cell_type": "code",
   "execution_count": 21,
   "metadata": {},
   "outputs": [
    {
     "ename": "ValueError",
     "evalue": "Invalid data: . Accepted values are ['00', '01', '10', '11']",
     "output_type": "error",
     "traceback": [
      "\u001b[1;31m---------------------------------------------------------------------------\u001b[0m",
      "\u001b[1;31mValueError\u001b[0m                                Traceback (most recent call last)",
      "Cell \u001b[1;32mIn[21], line 5\u001b[0m\n\u001b[0;32m      3\u001b[0m \u001b[38;5;28;01mif\u001b[39;00m \u001b[38;5;18m__name__\u001b[39m \u001b[38;5;241m==\u001b[39m \u001b[38;5;124m\"\u001b[39m\u001b[38;5;124m__main__\u001b[39m\u001b[38;5;124m\"\u001b[39m:\n\u001b[0;32m      4\u001b[0m     data \u001b[38;5;241m=\u001b[39m \u001b[38;5;28minput\u001b[39m()\n\u001b[1;32m----> 5\u001b[0m     q_ckt \u001b[38;5;241m=\u001b[39m \u001b[43mcreate_circuit\u001b[49m\u001b[43m(\u001b[49m\u001b[43mdata\u001b[49m\u001b[43m)\u001b[49m\n\u001b[0;32m      6\u001b[0m     q_ckt\u001b[38;5;241m.\u001b[39mdraw(\u001b[38;5;124m\"\u001b[39m\u001b[38;5;124mmpl\u001b[39m\u001b[38;5;124m\"\u001b[39m)\n\u001b[0;32m      7\u001b[0m     results \u001b[38;5;241m=\u001b[39m execute(q_ckt)\n",
      "Cell \u001b[1;32mIn[18], line 6\u001b[0m, in \u001b[0;36mcreate_circuit\u001b[1;34m(data)\u001b[0m\n\u001b[0;32m      4\u001b[0m accepted_data \u001b[38;5;241m=\u001b[39m [\u001b[38;5;124m\"\u001b[39m\u001b[38;5;124m00\u001b[39m\u001b[38;5;124m\"\u001b[39m, \u001b[38;5;124m\"\u001b[39m\u001b[38;5;124m01\u001b[39m\u001b[38;5;124m\"\u001b[39m, \u001b[38;5;124m\"\u001b[39m\u001b[38;5;124m10\u001b[39m\u001b[38;5;124m\"\u001b[39m, \u001b[38;5;124m\"\u001b[39m\u001b[38;5;124m11\u001b[39m\u001b[38;5;124m\"\u001b[39m]\n\u001b[0;32m      5\u001b[0m \u001b[38;5;28;01mif\u001b[39;00m data \u001b[38;5;129;01mnot\u001b[39;00m \u001b[38;5;129;01min\u001b[39;00m accepted_data:\n\u001b[1;32m----> 6\u001b[0m     \u001b[38;5;28;01mraise\u001b[39;00m \u001b[38;5;167;01mValueError\u001b[39;00m(\u001b[38;5;124mf\u001b[39m\u001b[38;5;124m\"\u001b[39m\u001b[38;5;124mInvalid data: \u001b[39m\u001b[38;5;132;01m{\u001b[39;00mdata\u001b[38;5;132;01m}\u001b[39;00m\u001b[38;5;124m. Accepted values are \u001b[39m\u001b[38;5;132;01m{\u001b[39;00maccepted_data\u001b[38;5;132;01m}\u001b[39;00m\u001b[38;5;124m\"\u001b[39m)\n\u001b[0;32m      8\u001b[0m q_reg \u001b[38;5;241m=\u001b[39m QuantumRegister(\u001b[38;5;241m2\u001b[39m)\n\u001b[0;32m      9\u001b[0m c_reg \u001b[38;5;241m=\u001b[39m ClassicalRegister(\u001b[38;5;241m2\u001b[39m)\n",
      "\u001b[1;31mValueError\u001b[0m: Invalid data: . Accepted values are ['00', '01', '10', '11']"
     ]
    }
   ],
   "source": [
    "# Accepted input \"00\", \"01\", \"10\", \"11\"\n",
    "\n",
    "if __name__ == \"__main__\":\n",
    "    data = input()\n",
    "    q_ckt = create_circuit(data)\n",
    "    q_ckt.draw(\"mpl\")\n",
    "    results = execute(q_ckt)"
   ]
  },
  {
   "cell_type": "markdown",
   "metadata": {},
   "source": [
    "# <b>Remember :</b>\n",
    "- Qiskit follows little-endian convention, meaning qubit 0 is the least significant bit (LSB).\n",
    "- As a result, measurement outcomes are stored in reverse order.\n",
    "- If needed, reverse the bitstrings using counts.reverse_bits() or key[::-1]."
   ]
  },
  {
   "cell_type": "code",
   "execution_count": null,
   "metadata": {},
   "outputs": [
    {
     "data": {
      "image/png": "[encoded data removed]",
      "text/plain": [
       "<Figure size 640x480 with 1 Axes>"
      ]
     },
     "metadata": {},
     "output_type": "display_data"
    }
   ],
   "source": [
    "plot_hist(results)"
   ]
  },
  {
   "cell_type": "code",
   "execution_count": null,
   "metadata": {},
   "outputs": [],
   "source": []
  }
 ],
 "metadata": {
  "kernelspec": {
   "display_name": "qiskit",
   "language": "python",
   "name": "python3"
  },
  "language_info": {
   "codemirror_mode": {
    "name": "ipython",
    "version": 3
   },
   "file_extension": ".py",
   "mimetype": "text/x-python",
   "name": "python",
   "nbconvert_exporter": "python",
   "pygments_lexer": "ipython3",
   "version": "3.10.0"
  }
 },
 "nbformat": 4,
 "nbformat_minor": 2
}
