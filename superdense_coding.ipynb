{
 "cells": [
  {
   "cell_type": "code",
   "execution_count": 1,
   "metadata": {},
   "outputs": [
    {
     "name": "stdout",
     "output_type": "stream",
     "text": [
      "qiskit==1.3.1\n",
      "qiskit-aer==0.15.1\n",
      "qiskit-algorithms==0.3.1\n",
      "qiskit-experiments==0.8.1\n",
      "qiskit-ibm-experiment==0.4.8\n",
      "qiskit-ibm-provider==0.11.0\n",
      "qiskit-ibm-runtime==0.34.0\n",
      "qiskit-machine-learning==0.8.2\n"
     ]
    }
   ],
   "source": [
    "!pip freeze | findstr qiskit"
   ]
  },
  {
   "cell_type": "code",
   "execution_count": 2,
   "metadata": {},
   "outputs": [],
   "source": [
    "from qiskit import QuantumCircuit, QuantumRegister, ClassicalRegister, transpile\n",
    "from qiskit.visualization import *\n",
    "import matplotlib.pyplot as plt\n",
    "from qiskit_aer import AerSimulator\n",
    "%matplotlib inline"
   ]
  },
  {
   "cell_type": "markdown",
   "metadata": {},
   "source": [
    "## <b>Note :</b>\n",
    "- The zero'th qubit is Alice's\n",
    "- The First qubit is Bob's"
   ]
  },
  {
   "cell_type": "code",
   "execution_count": 3,
   "metadata": {},
   "outputs": [],
   "source": [
    "# Creating an Entanglement Pair between Alice and Bob\n",
    "\n",
    "def create_entanglment_ckt(q_ckt):\n",
    "    # resource state\n",
    "    q_ckt.h(0)\n",
    "    q_ckt.cx(0,1)\n",
    "    q_ckt.barrier()\n",
    "    return q_ckt"
   ]
  },
  {
   "cell_type": "code",
   "execution_count": 4,
   "metadata": {},
   "outputs": [],
   "source": [
    "# Encoding the Classical Bit in the Alice's Qubits\n",
    "\n",
    "def create_encoding_ckt(q_ckt, data):\n",
    "    if data == \"00\":\n",
    "        q_ckt.id(0)\n",
    "    elif data == \"01\":\n",
    "        q_ckt.x(0)\n",
    "    elif data == \"10\":\n",
    "        q_ckt.z(0)\n",
    "    elif data == \"11\":\n",
    "        q_ckt.x(0)\n",
    "        q_ckt.z(0)\n",
    "        \n",
    "    q_ckt.barrier()\n",
    "    return q_ckt"
   ]
  },
  {
   "cell_type": "code",
   "execution_count": 5,
   "metadata": {},
   "outputs": [],
   "source": [
    "# The Alice's Qubits is then shared with Bob and Bobs perform \n",
    "# decoding by applying inverse of the encoding circuit\n",
    "\n",
    "def create_decoding_ckt(q_ckt):\n",
    "    # decoding\n",
    "    q_ckt.cx(0, 1)\n",
    "    q_ckt.h(0)\n",
    "    return q_ckt"
   ]
  },
  {
   "cell_type": "code",
   "execution_count": 6,
   "metadata": {},
   "outputs": [],
   "source": [
    "# Performing Measurement\n",
    "\n",
    "def measurement(q_ckt, q_reg, c_reg):\n",
    "    # Measuremnet\n",
    "    q_ckt.measure(q_reg, c_reg)\n",
    "    return q_ckt"
   ]
  },
  {
   "cell_type": "code",
   "execution_count": 7,
   "metadata": {},
   "outputs": [],
   "source": [
    "# Creating the Circuit\n",
    "\n",
    "def create_circuit(data):\n",
    "    accepted_data = [\"00\", \"01\", \"10\", \"11\"]\n",
    "    if data not in accepted_data:\n",
    "        raise ValueError(f\"Invalid data: {data}. Accepted values are {accepted_data}\")\n",
    "\n",
    "    q_reg = QuantumRegister(2)\n",
    "    c_reg = ClassicalRegister(2)\n",
    "    q_ckt = QuantumCircuit(q_reg, c_reg)\n",
    "\n",
    "    q_ckt = create_entanglment_ckt(q_ckt)\n",
    "    q_ckt = create_encoding_ckt(q_ckt, data)\n",
    "    q_ckt = create_decoding_ckt(q_ckt)\n",
    "    q_ckt = measurement(q_ckt, q_reg, c_reg)\n",
    "    return q_ckt"
   ]
  },
  {
   "cell_type": "code",
   "execution_count": 8,
   "metadata": {},
   "outputs": [],
   "source": [
    "# Executing on AerSimulator\n",
    "\n",
    "def execute(q_ckt):\n",
    "    sim = AerSimulator()\n",
    "    result = sim.run(q_ckt, shots=100).result()\n",
    "    return result"
   ]
  },
  {
   "cell_type": "code",
   "execution_count": 9,
   "metadata": {},
   "outputs": [],
   "source": [
    "# Plotting the Results\n",
    "\n",
    "def plot_hist(results):\n",
    "    counts = results.get_counts()\n",
    "    data = []\n",
    "    for key, value in counts.items():\n",
    "        data.extend([key] * value)\n",
    "\n",
    "    plt.hist(data, bins=len(counts), edgecolor='black', alpha=0.7)"
   ]
  },
  {
   "cell_type": "code",
   "execution_count": 10,
   "metadata": {},
   "outputs": [
    {
     "data": {
      "image/png": "[encoded data removed]",
      "text/plain": [
       "<Figure size 890.803x284.278 with 1 Axes>"
      ]
     },
     "metadata": {},
     "output_type": "display_data"
    }
   ],
   "source": [
    "# Accepted input \"00\", \"01\", \"10\", \"11\"\n",
    "\n",
    "if __name__ == \"__main__\":\n",
    "    data = input()\n",
    "    q_ckt = create_circuit(data)\n",
    "    q_ckt.draw(\"mpl\")\n",
    "    results = execute(q_ckt)"
   ]
  },
  {
   "cell_type": "markdown",
   "metadata": {},
   "source": [
    "# <b>Remember :</b>\n",
    "- Qiskit follows little-endian convention, meaning qubit 0 is the least significant bit (LSB).\n",
    "- As a result, measurement outcomes are stored in reverse order.\n",
    "- If needed, reverse the bitstrings using counts.reverse_bits() or key[::-1]."
   ]
  },
  {
   "cell_type": "code",
   "execution_count": 11,
   "metadata": {},
   "outputs": [
    {
     "data": {
      "image/png": "[encoded data removed]",
      "text/plain": [
       "<Figure size 640x480 with 1 Axes>"
      ]
     },
     "metadata": {},
     "output_type": "display_data"
    }
   ],
   "source": [
    "plot_hist(results)"
   ]
  },
  {
   "cell_type": "code",
   "execution_count": null,
   "metadata": {},
   "outputs": [],
   "source": []
  }
 ],
 "metadata": {
  "kernelspec": {
   "display_name": "qiskit",
   "language": "python",
   "name": "python3"
  },
  "language_info": {
   "codemirror_mode": {
    "name": "ipython",
    "version": 3
   },
   "file_extension": ".py",
   "mimetype": "text/x-python",
   "name": "python",
   "nbconvert_exporter": "python",
   "pygments_lexer": "ipython3",
   "version": "3.10.0"
  }
 },
 "nbformat": 4,
 "nbformat_minor": 2
}
